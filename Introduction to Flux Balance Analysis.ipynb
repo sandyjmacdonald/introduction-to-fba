{
 "cells": [
  {
   "cell_type": "markdown",
   "id": "a0251482",
   "metadata": {
    "slideshow": {
     "slide_type": "slide"
    }
   },
   "source": [
    "## Introduction to Flux Balance Analysis (FBA)\n",
    "\n",
    "### Dr Sandy Macdonald, Bioinformatician in the TF\n",
    "### s.macdonald@york.ac.uk\n",
    "\n",
    "### Wednesday, 4th May, 2022"
   ]
  },
  {
   "cell_type": "markdown",
   "id": "bc9f79c5",
   "metadata": {
    "slideshow": {
     "slide_type": "slide"
    }
   },
   "source": [
    "## Background\n",
    "\n",
    "FBA, or Flux Balance Analysis is a metabolic modelling method widely used to build genome scale metabolic models.\n",
    "\n",
    "Its first significant use was in a paper from David Fell in 1986 (https://doi.org/10.1042/bj2380781), where it was used to model fat synthesis in adipose tissue.\n",
    "\n",
    "The technique was championed by Bernard Palsson, who has published many genome scale metabolic models, and improvements and extensions of the method over the past two decades.\n",
    "\n",
    "I've used it in my PhD, in my postdoc with Gavin Thomas, and more recently as part of Gavin's MORF project."
   ]
  },
  {
   "cell_type": "markdown",
   "id": "ec66c267",
   "metadata": {
    "slideshow": {
     "slide_type": "slide"
    }
   },
   "source": [
    "## Quick summary of FBA\n",
    "\n",
    "A model comprises, broadly, of a set of reactions with associated genes and metabolites in one or more \"compartments\" (more detail on that later...)\n",
    "\n",
    "The reactions are represented as a set of balanced equations.\n",
    "\n",
    "The set of balanced equations are solved using linear programming."
   ]
  },
  {
   "cell_type": "markdown",
   "id": "9b133c6e",
   "metadata": {
    "slideshow": {
     "slide_type": "slide"
    }
   },
   "source": [
    "## Important terms\n",
    "\n",
    "### Constraints\n",
    "\n",
    "Each reaction has constraints applied, i.e. upper and lower bounds for the reaction's flux, which limits the solution space which has to be solved.\n",
    "\n",
    "Often FBA is referred to as constraint-based modelling.\n",
    "\n",
    "These constraints define the reversibility of the reaction.\n",
    "\n",
    "### Objective function\n",
    "\n",
    "An objective function is defined and optimised, given the set of equations and their constraints.\n",
    "\n",
    "Usually this objective function is to maximise biomass production, but it could also be another function of the network, or it could be minimised. Multiple objective functions are possible.\n",
    "\n",
    "The biomass reaction stoichiometry should be measured experimentally!"
   ]
  },
  {
   "cell_type": "markdown",
   "id": "ebf05185",
   "metadata": {
    "slideshow": {
     "slide_type": "slide"
    }
   },
   "source": [
    "## Important terms\n",
    "\n",
    "### Compartments\n",
    "\n",
    "A model can have one or more compartments, between which metabolites can move via so-called exchange reactions (transport). Metabolites belong to one compartment, so exchange reactions between compartments have separate metabolites for each compartment on each side of the exchange reaction. \n",
    "\n",
    "These compartments are analagous to compartments within cells, e.g. extracellular space, periplasm, cytoplasm, etc.\n",
    "\n",
    "### Uptakes and effluxes (AKA exchange reactions)\n",
    "\n",
    "Exchange reactions that allow metabolites to enter and leave the model are called uptake and efflux reactions respectively.\n",
    "\n",
    "An example of an uptake reaction would be glucose entering a model of _E. coli_ as a carbon source, and an example of an efflux reaction could be acetate leaving the model as a by-product.\n",
    "\n",
    "These are one-sided reactions."
   ]
  },
  {
   "cell_type": "markdown",
   "id": "3b079d16",
   "metadata": {
    "slideshow": {
     "slide_type": "slide"
    }
   },
   "source": [
    "## Assumptions\n",
    "\n",
    "Assumptions are an important part of any model!\n",
    "\n",
    "One important assumption is that any model is incomplete, because you don't have perfect knowledge of its genes, proteins, and metabolic reactions. The extent of this incompleteness will vary.\n",
    "\n",
    "By its nature, FBA assumes that the system is at steady state, i.e. that overall production equals consumption, although there are some hacky ways round this.\n",
    "\n",
    "When combining FBA models with experimental data, experimental measurements are usually taken during log phase when growth rate is roughly linear or at pseudo steady state.\n",
    "\n",
    "FBA takes no account of differing reaction kinetics.\n",
    "\n",
    "The units of flux in FBA models are mmol/gram dry weight/hour."
   ]
  },
  {
   "cell_type": "markdown",
   "id": "fd292f55",
   "metadata": {
    "slideshow": {
     "slide_type": "slide"
    }
   },
   "source": [
    "## Summary from Nature FBA Primer\n",
    "\n",
    "<div>\n",
    "<img src=\"images/nature-fba-primer-image.jpeg\" width=\"410\"/>\n",
    "</div>\n",
    "(from https://doi.org/10.1038/nbt.1614)"
   ]
  },
  {
   "cell_type": "markdown",
   "id": "324a03c6",
   "metadata": {
    "slideshow": {
     "slide_type": "slide"
    }
   },
   "source": [
    "## Where to find models\n",
    "\n",
    "If you're lucky, then someone else will have built one for your organism already!\n",
    "\n",
    "This is most likely if your organism is well-studied, like _E. coli_, _S. aureus_, _B. subtilis_, etc.\n",
    "\n",
    "The BiGG Models database (http://bigg.ucsd.edu/models) is probably the best source of models. They use consistent notation for metabolites and reactions and make sure that the models are sensible.\n",
    "\n",
    "Otherwise, you're going to have to build your own! More on that shortly..."
   ]
  },
  {
   "cell_type": "markdown",
   "id": "ca0617cc",
   "metadata": {
    "slideshow": {
     "slide_type": "slide"
    }
   },
   "source": [
    "## Model formats\n",
    "\n",
    "All FBA models have the same main structure: lists of reactions, genes, metabolites, and compartments, along with some metadata about the model (ID, version).\n",
    "\n",
    "There are two widely-used formats: SBML (Systems Biology Markup Language) and JSON (JavaScript Object Notation).\n",
    "\n",
    "SBML is a flavour of XML specifically for metabolic models. It was the first format used for FBA models. Because of all the tags and chevrons, it's not the easiest to read by eye.\n",
    "\n",
    "JSON is used for passing around bits of data in websites and web apps, but its structure lends itself well to FBA models also, and it's now used routinely for this purpose. We'll focus on JSON here."
   ]
  },
  {
   "cell_type": "markdown",
   "id": "d89dec49",
   "metadata": {
    "slideshow": {
     "slide_type": "slide"
    }
   },
   "source": [
    "## Example reaction - JSON\n",
    "\n",
    "Here's an example of a reaction from a JSON model, the _E. coli_ core metabolism model from the BiGG database (http://bigg.ucsd.edu/models/e_coli_core):\n",
    "\n",
    "```json\n",
    "{\n",
    "\"id\":\"FBA\",\n",
    "\"name\":\"fructose-bisphosphate aldolase\",\n",
    "\"metabolites\":{\n",
    "\"dhap_c\":1.0,\n",
    "\"fdp_c\":-1.0,\n",
    "\"g3p_c\":1.0\n",
    "},\n",
    "\"lower_bound\":-1000.0,\n",
    "\"upper_bound\":1000.0,\n",
    "\"gene_reaction_rule\":\"b1773 or b2097 or b2925\",\n",
    "\"annotation\":{\n",
    "\"bigg.reaction\":\"FBA\"\n",
    "}\n",
    "},\n",
    "```\n",
    "\n",
    "Left hand side reactants have negative stoichiometries, right hand side products have positive ones.\n",
    "\n",
    "Gene reaction rules can be `and` or `or` or some combination of both."
   ]
  },
  {
   "cell_type": "markdown",
   "id": "55508142",
   "metadata": {
    "slideshow": {
     "slide_type": "slide"
    }
   },
   "source": [
    "## Example reaction - SBML\n",
    "\n",
    "```xml\n",
    "<reaction metaid=\"meta_R_FBA\" id=\"R_FBA\" name=\"fructose-bisphosphate aldolase\" reversible=\"true\" fast=\"false\" fbc:lowerFluxBound=\"cobra_default_lb\" fbc:upperFluxBound=\"cobra_default_ub\">\n",
    "  <annotation>\n",
    "    <rdf:RDF xmlns:rdf=\"http://www.w3.org/1999/02/22-rdf-syntax-ns#\" xmlns:dcterms=\"http://purl.org/dc/terms/\" xmlns:vCard=\"http://www.w3.org/2001/vcard-rdf/3.0#\" xmlns:vCard4=\"http://www.w3.org/2006/vcard/ns#\" xmlns:bqbiol=\"http://biomodels.net/biology-qualifiers/\" xmlns:bqmodel=\"http://biomodels.net/model-qualifiers/\">\n",
    "      <rdf:Description rdf:about=\"#meta_R_FBA\">\n",
    "        <bqbiol:is>\n",
    "          <rdf:Bag>\n",
    "            <rdf:li rdf:resource=\"https://identifiers.org/bigg.reaction/FBA\"/>\n",
    "          </rdf:Bag>\n",
    "        </bqbiol:is>\n",
    "      </rdf:Description>\n",
    "    </rdf:RDF>\n",
    "  </annotation>\n",
    "  <listOfReactants>\n",
    "    <speciesReference species=\"M_fdp_c\" stoichiometry=\"1\" constant=\"true\"/>\n",
    "  </listOfReactants>\n",
    "  <listOfProducts>\n",
    "    <speciesReference species=\"M_dhap_c\" stoichiometry=\"1\" constant=\"true\"/>\n",
    "    <speciesReference species=\"M_g3p_c\" stoichiometry=\"1\" constant=\"true\"/>\n",
    "  </listOfProducts>\n",
    "  <fbc:geneProductAssociation>\n",
    "    <fbc:or>\n",
    "      <fbc:geneProductRef fbc:geneProduct=\"G_b1773\"/>\n",
    "      <fbc:geneProductRef fbc:geneProduct=\"G_b2097\"/>\n",
    "      <fbc:geneProductRef fbc:geneProduct=\"G_b2925\"/>\n",
    "    </fbc:or>\n",
    "  </fbc:geneProductAssociation>\n",
    "</reaction>\n",
    "```"
   ]
  },
  {
   "cell_type": "markdown",
   "id": "07c32d52",
   "metadata": {
    "slideshow": {
     "slide_type": "slide"
    }
   },
   "source": [
    "## One method of building an FBA model\n",
    "\n",
    "My preferred process is:\n",
    "\n",
    "1. Start with the most closely-related organism for which an FBA model exists.\n",
    "2. Use homology to match as many metabolic genes between the organisms (BLAST).\n",
    "3. Transfer those reactions which have gene matches to your new model.\n",
    "4. Attempt to fill gaps.\n",
    "\n",
    "This, of course, relies upon your organism having a well-annotated genome to work from.\n",
    "\n",
    "Ideally, you'd also have gene expression or proteomic data to identify missing enzymes/reactions. Even better if you're able to express and characterise the enzyme activities experimentally.\n",
    "\n",
    "Many FBA models have not insignificant numbers of gap-filled reactions (without gene evidence)."
   ]
  },
  {
   "cell_type": "markdown",
   "id": "293c3113",
   "metadata": {
    "slideshow": {
     "slide_type": "slide"
    }
   },
   "source": [
    "## FBA software\n",
    "\n",
    "My tool of choice is the COBRA toolbox, which has a Python library called cobrapy (https://opencobra.github.io/cobrapy/).\n",
    "\n",
    "It stems from the Palsson lab's original COBRA toolbox which ran in MATLAB (I used this in my postdoc with Gavin in 2008!)\n",
    "\n",
    "It has a whole bunch of functionality:\n",
    "\n",
    "* Reading and writing FBA models in SBML, JSON, YAML, MATLAB, and Python's pickle format\n",
    "* Building models from scratch, i.e. adding reactions, metabolites, genes, setting the objective function\n",
    "* Solving models (running simulations)\n",
    "* Simulating gene deletions (essentiality)\n",
    "* Predicting minimal media\n",
    "* Flux variability analysis (FVA)\n",
    "\n",
    "The cobrapy documentation (https://cobrapy.readthedocs.io/en/latest/) is excellent, so do read it if you're interested."
   ]
  },
  {
   "cell_type": "markdown",
   "id": "69ec64c4",
   "metadata": {
    "slideshow": {
     "slide_type": "slide"
    }
   },
   "source": [
    "## cobrapy examples\n",
    "\n",
    "### Building a simple model\n",
    "\n",
    "Let's look at how to create an empty model, and add a reaction and metabolites:"
   ]
  },
  {
   "cell_type": "code",
   "execution_count": 2,
   "id": "f0410795",
   "metadata": {
    "slideshow": {
     "slide_type": "slide"
    }
   },
   "outputs": [],
   "source": [
    "from cobra import Model, Reaction, Metabolite\n",
    "\n",
    "\n",
    "model = Model('toy_model')  # Create a new model\n",
    "\n",
    "r1 = Reaction('R1')  # Create a new reaction\n",
    "r1.name = 'Reaction 1'  # Name it\n",
    "r1.lower_bound = -1000.0  # Set the lower and\n",
    "r1.upper_bound = 1000.0  # upper bounds\n",
    "\n",
    "# Create three metabolites\n",
    "a = Metabolite(\n",
    "    'A_c',\n",
    "    formula='',\n",
    "    name='metabolite A',\n",
    "    compartment='c')\n",
    "\n",
    "b = Metabolite(\n",
    "    'B_c',\n",
    "    formula='',\n",
    "    name='metabolite B',\n",
    "    compartment='c')\n",
    "\n",
    "c = Metabolite(\n",
    "    'C_c',\n",
    "    formula='',\n",
    "    name='metabolite C',\n",
    "    compartment='c')\n",
    "\n",
    "# Add the three metabolites to the reaction,\n",
    "# with their stoichiometries, -ve for reactants,\n",
    "# +ve for products\n",
    "r1.add_metabolites({\n",
    "    a: -1.0,\n",
    "    b: 2.0,\n",
    "    c: 0.5\n",
    "})\n",
    "\n",
    "# Add the reaction to the model\n",
    "model.add_reactions([r1])"
   ]
  },
  {
   "cell_type": "code",
   "execution_count": 6,
   "id": "c4673665",
   "metadata": {
    "slideshow": {
     "slide_type": "slide"
    }
   },
   "outputs": [
    {
     "name": "stdout",
     "output_type": "stream",
     "text": [
      "R1: A_c <=> 2.0 B_c + 0.5 C_c\n",
      "Reactions: ['R1']\n",
      "Metabolites: ['A_c', 'B_c', 'C_c']\n",
      "R1: A_c --> 2.0 B_c + 0.5 C_c\n"
     ]
    }
   ],
   "source": [
    "# Printing a reaction gives a neat summary\n",
    "print(r1)\n",
    "\n",
    "# model.reactions is a list of all the reaction instances\n",
    "print(f\"Reactions: {[r.id for r in model.reactions]}\")\n",
    "\n",
    "# model.metabolites is a list of all the metabolite instances\n",
    "print(f\"Metabolites: {[m.id for m in model.metabolites]}\")\n",
    "\n",
    "# If we change r1 to be irreversible and then print it again...\n",
    "r1.lower_bound = 0\n",
    "\n",
    "# ... then the printed summary changes accordingly!\n",
    "print(r1)"
   ]
  },
  {
   "cell_type": "markdown",
   "id": "f3dc79c6",
   "metadata": {
    "slideshow": {
     "slide_type": "slide"
    }
   },
   "source": [
    "### Reading in models\n",
    "\n",
    "We can read FBA models in to cobrapy and then work with them, run simulations, etc.\n",
    "\n",
    "To read a JSON format model in, we use the `load_json_model()` function from the `cobra.io` module.\n",
    "\n",
    "To read in an SBML format model, we use the `read_sbml_model()` function from the `cobra.io` module (I  have no idea why one is `load` and the other is `read`...\n",
    "\n",
    "Let's read in the _E. coli_ core metabolism model now and try some things."
   ]
  },
  {
   "cell_type": "code",
   "execution_count": 32,
   "id": "c0f0d62a",
   "metadata": {
    "slideshow": {
     "slide_type": "slide"
    }
   },
   "outputs": [
    {
     "name": "stdout",
     "output_type": "stream",
     "text": [
      "Objective\n",
      "=========\n",
      "1.0 Biomass_Ecoli_core = 0.8739215069684307\n",
      "\n",
      "Uptake\n",
      "------\n",
      "Metabolite    Reaction  Flux  C-Number  C-Flux\n",
      "  glc__D_e EX_glc__D_e    10         6 100.00%\n",
      "     nh4_e    EX_nh4_e 4.765         0   0.00%\n",
      "      o2_e     EX_o2_e  21.8         0   0.00%\n",
      "      pi_e     EX_pi_e 3.215         0   0.00%\n",
      "\n",
      "Secretion\n",
      "---------\n",
      "Metabolite Reaction   Flux  C-Number  C-Flux\n",
      "     co2_e EX_co2_e -22.81         1 100.00%\n",
      "     h2o_e EX_h2o_e -29.18         0   0.00%\n",
      "       h_e   EX_h_e -17.53         0   0.00%\n",
      "\n"
     ]
    }
   ],
   "source": [
    "# import cobra.io\n",
    "\n",
    "# Read in the E. coli core model in JSON format\n",
    "model = cobra.io.load_json_model('e_coli_core.json')\n",
    "\n",
    "# Print a useful summary of the model. This also\n",
    "# solves the model.\n",
    "print(model.summary())"
   ]
  },
  {
   "cell_type": "markdown",
   "id": "1e88f210",
   "metadata": {
    "slideshow": {
     "slide_type": "slide"
    }
   },
   "source": [
    "### Affecting biomass flux\n",
    "\n",
    "In the case of this simple model, the carbon source (glucose/fructose) has a direct effect on the biomass flux (growth rate) of the model.\n",
    "\n",
    "The glucose uptake (to the model) is an exchange reaction which we looked at earlier, a one-sided reaction.\n",
    "\n",
    "Let's look at how we can manipulate that and see the resulting effect on biomass flux."
   ]
  },
  {
   "cell_type": "code",
   "execution_count": 38,
   "id": "f4f25d1c",
   "metadata": {
    "slideshow": {
     "slide_type": "slide"
    }
   },
   "outputs": [
    {
     "name": "stdout",
     "output_type": "stream",
     "text": [
      "-10.0\n",
      "<Solution 0.874 at 0x7fe280d9b9d0>\n",
      "\n",
      "<Solution 1.791 at 0x7fe280d9bac0>\n"
     ]
    }
   ],
   "source": [
    "# Find the lower bound of the glucose uptake reaction.\n",
    "# This is the growth-limiting step.\n",
    "print(model.reactions.get_by_id(\"EX_glc__D_e\").lower_bound)\n",
    "\n",
    "# Let's solve the model to find the biomass flux.\n",
    "print(model.optimize())\n",
    "\n",
    "# Double the amount of glucose uptake\n",
    "model.reactions.get_by_id(\"EX_glc__D_e\").lower_bound = -20\n",
    "\n",
    "print()\n",
    "\n",
    "# Solve the model again\n",
    "print(model.optimize())"
   ]
  },
  {
   "cell_type": "markdown",
   "id": "3240a02f",
   "metadata": {
    "slideshow": {
     "slide_type": "slide"
    }
   },
   "source": [
    "### Gene deletions (single)\n",
    "\n",
    "Let's do something a bit more interesting, and run a single gene deletion analysis.\n",
    "\n",
    "This goes through each gene in turn and knocks it out, and then solves the model to find the biomass flux.\n",
    "\n",
    "The `single_gene_deletion()` function returns a pandas dataframe with the gene knocked out, growth rate (biomass flux), and whether the solution is optimal (non-zero) or infeasible.\n",
    "\n",
    "Genes which result in an infeasible solution when knocked out are essential."
   ]
  },
  {
   "cell_type": "code",
   "execution_count": 39,
   "id": "e2030dc0",
   "metadata": {
    "slideshow": {
     "slide_type": "slide"
    }
   },
   "outputs": [
    {
     "name": "stdout",
     "output_type": "stream",
     "text": [
      "         ids    growth      status\n",
      "127  {b2415}       NaN  infeasible\n",
      "22   {b2416}       NaN  infeasible\n",
      "88   {b0356}  1.790569     optimal\n",
      "89   {b2286}  0.516254     optimal\n",
      "90   {b2287}  0.516254     optimal\n",
      "91   {b3956}  1.784060     optimal\n",
      "92   {b3603}  1.790569     optimal\n",
      "87   {b3870}  1.790569     optimal\n",
      "0    {b2280}  0.516254     optimal\n",
      "94   {b2458}  1.790569     optimal\n"
     ]
    }
   ],
   "source": [
    "from cobra.flux_analysis import single_gene_deletion\n",
    "\n",
    "# Run the single gene deletion and store the results\n",
    "deletion_results = single_gene_deletion(model)\n",
    "\n",
    "# Sort the results table by the status column to find the\n",
    "# infeasible knockouts.\n",
    "print(deletion_results.sort_values(\"status\", ascending=True)[:10])"
   ]
  },
  {
   "cell_type": "code",
   "execution_count": 40,
   "id": "393c9b31",
   "metadata": {
    "slideshow": {
     "slide_type": "slide"
    }
   },
   "outputs": [
    {
     "name": "stdout",
     "output_type": "stream",
     "text": [
      "FRUpts2 R Fructose transport via PEPPyr PTS-f6p - generating\n",
      "GLCpts D-glucose transport via PEP:Pyr PTS\n"
     ]
    }
   ],
   "source": [
    "# Let's have a look at what reactions those two essential\n",
    "# genes belong to:\n",
    "essential_genes = [\"b2415\", \"b2416\"]\n",
    "\n",
    "# Loop through all the reactions and check whether their \n",
    "# genes have any overlap with the essential genes, printing\n",
    "# their name and id if they do\n",
    "for r in model.reactions:\n",
    "    genes = r.genes\n",
    "    gene_ids = [g.id for g in genes]\n",
    "    if len(set(essential_genes).intersection(gene_ids)):\n",
    "        print(r.id, r.name)"
   ]
  },
  {
   "cell_type": "markdown",
   "id": "57df0907",
   "metadata": {
    "slideshow": {
     "slide_type": "slide"
    }
   },
   "source": [
    "### Flux Variability Analysis (FVA)\n",
    "\n",
    "Lastly, we'll look at flux variability analysis.\n",
    "\n",
    "This method computes the range of possible flux that each reaction can have while maintaining the optimal biomass flux. It's useful for identifying redundant reactions and, conversely, essential reactions.\n",
    "\n",
    "Reactions with a small amount of flux variability are likely to be more important, whereas those with a larger range are less likely to be important, as changing their flux has no effect on optimal biomass flux.\n",
    "\n",
    "Let's look at an example:"
   ]
  },
  {
   "cell_type": "code",
   "execution_count": 45,
   "id": "8ce333c6",
   "metadata": {
    "slideshow": {
     "slide_type": "slide"
    }
   },
   "outputs": [
    {
     "data": {
      "text/html": [
       "<div>\n",
       "<style scoped>\n",
       "    .dataframe tbody tr th:only-of-type {\n",
       "        vertical-align: middle;\n",
       "    }\n",
       "\n",
       "    .dataframe tbody tr th {\n",
       "        vertical-align: top;\n",
       "    }\n",
       "\n",
       "    .dataframe thead th {\n",
       "        text-align: right;\n",
       "    }\n",
       "</style>\n",
       "<table border=\"1\" class=\"dataframe\">\n",
       "  <thead>\n",
       "    <tr style=\"text-align: right;\">\n",
       "      <th></th>\n",
       "      <th>minimum</th>\n",
       "      <th>maximum</th>\n",
       "      <th>difference</th>\n",
       "    </tr>\n",
       "  </thead>\n",
       "  <tbody>\n",
       "    <tr>\n",
       "      <th>FRD7</th>\n",
       "      <td>0.000000</td>\n",
       "      <td>990.797010</td>\n",
       "      <td>9.907970e+02</td>\n",
       "    </tr>\n",
       "    <tr>\n",
       "      <th>SUCDi</th>\n",
       "      <td>9.202990</td>\n",
       "      <td>1000.000000</td>\n",
       "      <td>9.907970e+02</td>\n",
       "    </tr>\n",
       "    <tr>\n",
       "      <th>AKGDH</th>\n",
       "      <td>9.202990</td>\n",
       "      <td>9.202990</td>\n",
       "      <td>5.575984e-12</td>\n",
       "    </tr>\n",
       "    <tr>\n",
       "      <th>ICDHyr</th>\n",
       "      <td>11.134835</td>\n",
       "      <td>11.134835</td>\n",
       "      <td>5.446310e-12</td>\n",
       "    </tr>\n",
       "    <tr>\n",
       "      <th>PPC</th>\n",
       "      <td>5.131054</td>\n",
       "      <td>5.131054</td>\n",
       "      <td>5.114131e-12</td>\n",
       "    </tr>\n",
       "    <tr>\n",
       "      <th>...</th>\n",
       "      <td>...</td>\n",
       "      <td>...</td>\n",
       "      <td>...</td>\n",
       "    </tr>\n",
       "    <tr>\n",
       "      <th>EX_pi_e</th>\n",
       "      <td>-6.586966</td>\n",
       "      <td>-6.586966</td>\n",
       "      <td>1.776357e-14</td>\n",
       "    </tr>\n",
       "    <tr>\n",
       "      <th>PIt2r</th>\n",
       "      <td>6.586966</td>\n",
       "      <td>6.586966</td>\n",
       "      <td>1.509903e-14</td>\n",
       "    </tr>\n",
       "    <tr>\n",
       "      <th>Biomass_Ecoli_core</th>\n",
       "      <td>1.790569</td>\n",
       "      <td>1.790569</td>\n",
       "      <td>5.995204e-15</td>\n",
       "    </tr>\n",
       "    <tr>\n",
       "      <th>MALt2_2</th>\n",
       "      <td>0.000000</td>\n",
       "      <td>0.000000</td>\n",
       "      <td>0.000000e+00</td>\n",
       "    </tr>\n",
       "    <tr>\n",
       "      <th>EX_mal__L_e</th>\n",
       "      <td>0.000000</td>\n",
       "      <td>0.000000</td>\n",
       "      <td>0.000000e+00</td>\n",
       "    </tr>\n",
       "  </tbody>\n",
       "</table>\n",
       "<p>95 rows × 3 columns</p>\n",
       "</div>"
      ],
      "text/plain": [
       "                      minimum      maximum    difference\n",
       "FRD7                 0.000000   990.797010  9.907970e+02\n",
       "SUCDi                9.202990  1000.000000  9.907970e+02\n",
       "AKGDH                9.202990     9.202990  5.575984e-12\n",
       "ICDHyr              11.134835    11.134835  5.446310e-12\n",
       "PPC                  5.131054     5.131054  5.114131e-12\n",
       "...                       ...          ...           ...\n",
       "EX_pi_e             -6.586966    -6.586966  1.776357e-14\n",
       "PIt2r                6.586966     6.586966  1.509903e-14\n",
       "Biomass_Ecoli_core   1.790569     1.790569  5.995204e-15\n",
       "MALt2_2              0.000000     0.000000  0.000000e+00\n",
       "EX_mal__L_e          0.000000     0.000000  0.000000e+00\n",
       "\n",
       "[95 rows x 3 columns]"
      ]
     },
     "execution_count": 45,
     "metadata": {},
     "output_type": "execute_result"
    }
   ],
   "source": [
    "import cobra.flux_analysis\n",
    "\n",
    "# Run the FVA and store the results\n",
    "fva = cobra.flux_analysis.variability.flux_variability_analysis(model)\n",
    "\n",
    "# Create a new column that is the difference, i.e. the\n",
    "# amount of variability possible.\n",
    "fva[\"difference\"] = abs(fva[\"maximum\"] - fva[\"minimum\"])\n",
    "\n",
    "# Sort by that new column\n",
    "fva.sort_values(\"difference\", ascending=False)"
   ]
  },
  {
   "cell_type": "code",
   "execution_count": 47,
   "id": "60b7b027",
   "metadata": {
    "slideshow": {
     "slide_type": "slide"
    }
   },
   "outputs": [
    {
     "name": "stdout",
     "output_type": "stream",
     "text": [
      "FRD7: fum_c + q8h2_c --> q8_c + succ_c\n",
      "SUCDi: q8_c + succ_c --> fum_c + q8h2_c\n"
     ]
    }
   ],
   "source": [
    "# Let's look at what the two reactions with the \n",
    "# largest amount of flux variability are...\n",
    "\n",
    "frd7 = model.reactions.get_by_id(\"FRD7\")\n",
    "print(frd7)\n",
    "\n",
    "sucdi = model.reactions.get_by_id(\"SUCDi\")\n",
    "print(sucdi)"
   ]
  },
  {
   "cell_type": "markdown",
   "id": "9b364406",
   "metadata": {
    "slideshow": {
     "slide_type": "slide"
    }
   },
   "source": [
    "## More extensions to FBA\n",
    "\n",
    "### Production envelopes/phenotypic phase planes\n",
    "\n",
    "This allows the interplay between two metabolites (usually a substrate and a product) and the objective flux to be investigated, e.g. what is the effect of both glucose and oxygen availability on production of acetate (example in the cobrapy docs)?\n",
    "\n",
    "### Multiple gene knockouts\n",
    "\n",
    "cobrapy has methods for double gene deletions and you could build your own mutiple gene deletion methods (although the permutations explode quickly!)\n",
    "\n",
    "### Dynamic FBA (dFBA)\n",
    "\n",
    "Dynamic FBA allows dynamic changes in external metabolite concentrations to be incorporated into an FBA model. _In silico_ equivalent of time course metabolomic data. Allows, for example, the glucose consumption to be plotted against growth rate through time (example in the cobrapy docs)."
   ]
  },
  {
   "cell_type": "markdown",
   "id": "c784d8f3",
   "metadata": {
    "slideshow": {
     "slide_type": "slide"
    }
   },
   "source": [
    "## Real world examples\n",
    "\n",
    "In 2009, we published (https://doi.org/10.1186/1752-0509-3-24) an FBA model of _Buchnera aphidicola_, the obligate bacterial symbiont of the pea aphid.\n",
    "\n",
    "The metabolic network (and indeed genome) of _Buchnera_ is a subset of _E. coli_, which made building the model much more straighforward than usual!\n",
    "\n",
    "We were able to show: \n",
    "\n",
    "* the fragility of the network (~95% of its genes are essential, compared to ~20% for _E. coli_)\n",
    "* that essential amino acid synthesis is coupled to growth\n",
    "* that the essential amino acid profile can be altered by altering supply of carbon and nitrogen sources"
   ]
  },
  {
   "cell_type": "markdown",
   "id": "d0e1ca4d",
   "metadata": {
    "slideshow": {
     "slide_type": "slide"
    }
   },
   "source": [
    "### Buchnera gene essentiality (gene deletion analysis)\n",
    "\n",
    "<div>\n",
    "<img src=\"images/buchnera-gene-essentiality.jpeg\" width=\"300\"/>\n",
    "</div>\n",
    "\n",
    "A: _E. coli_, B: _Buchnera_"
   ]
  },
  {
   "cell_type": "markdown",
   "id": "96907c11",
   "metadata": {
    "slideshow": {
     "slide_type": "slide"
    }
   },
   "source": [
    "## Summing up\n",
    "\n",
    "FBA is a useful metabolic modelling method that can be used to understand an organism's metabolism in detail.\n",
    "\n",
    "It avoids the headaches of reaction kinetics, but you should be careful to know what assumptions your model makes and to consider the quality of the data used to build the model.\n",
    "\n",
    "Many pre-built FBA models exist already, especially if your favourite organism is well-studied.\n",
    "\n",
    "You can build your own genome-scale metabolic model by homology.\n",
    "\n",
    "The cobrapy Python library is the go-to method for working with FBA models and provides many ways to interrogate your metabolic model ."
   ]
  },
  {
   "cell_type": "markdown",
   "id": "39b419d5",
   "metadata": {
    "slideshow": {
     "slide_type": "slide"
    }
   },
   "source": [
    "## Useful resources\n",
    "\n",
    "Here are some useful resources to learn more about what I've spoken about today:\n",
    "\n",
    "* Nature Primer on Flux Balance Analysis: [https://doi.org/10.1038/nbt.1614](https://doi.org/10.1038/nbt.1614)\n",
    "* BiGG Models database: [http://bigg.ucsd.edu/models](http://bigg.ucsd.edu/models)\n",
    "* cobrapy documentation: [https://cobrapy.readthedocs.io/en/latest/](https://cobrapy.readthedocs.io/en/latest/)\n",
    "\n",
    "\n",
    "## Contact details\n",
    "\n",
    "Please don't hesitate to get in touch if you need any help or advice: s.macdonald@york.ac.uk"
   ]
  }
 ],
 "metadata": {
  "celltoolbar": "Slideshow",
  "kernelspec": {
   "display_name": "Python 3 (ipykernel)",
   "language": "python",
   "name": "python3"
  },
  "language_info": {
   "codemirror_mode": {
    "name": "ipython",
    "version": 3
   },
   "file_extension": ".py",
   "mimetype": "text/x-python",
   "name": "python",
   "nbconvert_exporter": "python",
   "pygments_lexer": "ipython3",
   "version": "3.9.5"
  }
 },
 "nbformat": 4,
 "nbformat_minor": 5
}
